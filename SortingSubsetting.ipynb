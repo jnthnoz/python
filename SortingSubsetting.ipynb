{
  "nbformat": 4,
  "nbformat_minor": 0,
  "metadata": {
    "colab": {
      "provenance": [],
      "authorship_tag": "ABX9TyMXmeFqROew+X/6djyfV4wH",
      "include_colab_link": true
    },
    "kernelspec": {
      "name": "python3",
      "display_name": "Python 3"
    },
    "language_info": {
      "name": "python"
    }
  },
  "cells": [
    {
      "cell_type": "markdown",
      "metadata": {
        "id": "view-in-github",
        "colab_type": "text"
      },
      "source": [
        "<a href=\"https://colab.research.google.com/github/jnthnoz/python/blob/main/SortingSubsetting.ipynb\" target=\"_parent\"><img src=\"https://colab.research.google.com/assets/colab-badge.svg\" alt=\"Open In Colab\"/></a>"
      ]
    },
    {
      "cell_type": "code",
      "execution_count": 3,
      "metadata": {
        "colab": {
          "base_uri": "https://localhost:8080/"
        },
        "id": "APyf5ZNtvZuY",
        "outputId": "1e9a13b5-151c-464e-8c21-0ba20ee4a512"
      },
      "outputs": [
        {
          "output_type": "stream",
          "name": "stdout",
          "text": [
            "    Unnamed: 0              region         state  individuals  family_members  \\\n",
            "50          50            Mountain       Wyoming        434.0           205.0   \n",
            "34          34  West North Central  North Dakota        467.0            75.0   \n",
            "7            7      South Atlantic      Delaware        708.0           374.0   \n",
            "39          39         New England  Rhode Island        747.0           354.0   \n",
            "45          45         New England       Vermont        780.0           511.0   \n",
            "\n",
            "    state_pop  \n",
            "50     577601  \n",
            "34     758080  \n",
            "7      965479  \n",
            "39    1058287  \n",
            "45     624358  \n",
            "    Unnamed: 0              region          state  individuals  \\\n",
            "32          32        Mid-Atlantic       New York      39827.0   \n",
            "4            4             Pacific     California     109008.0   \n",
            "21          21         New England  Massachusetts       6811.0   \n",
            "9            9      South Atlantic        Florida      21443.0   \n",
            "43          43  West South Central          Texas      19199.0   \n",
            "\n",
            "    family_members  state_pop  \n",
            "32         52070.0   19530351  \n",
            "4          20964.0   39461588  \n",
            "21         13257.0    6882635  \n",
            "9           9587.0   21244317  \n",
            "43          6111.0   28628666  \n",
            "    Unnamed: 0              region      state  individuals  family_members  \\\n",
            "13          13  East North Central   Illinois       6752.0          3891.0   \n",
            "35          35  East North Central       Ohio       6929.0          3320.0   \n",
            "22          22  East North Central   Michigan       5209.0          3142.0   \n",
            "49          49  East North Central  Wisconsin       2740.0          2167.0   \n",
            "14          14  East North Central    Indiana       3776.0          1482.0   \n",
            "\n",
            "    state_pop  \n",
            "13   12723071  \n",
            "35   11676341  \n",
            "22    9984072  \n",
            "49    5807406  \n",
            "14    6695497  \n",
            "   individuals\n",
            "0       2570.0\n",
            "1       1434.0\n",
            "2       7259.0\n",
            "3       2280.0\n",
            "4     109008.0\n",
            "        state  family_members\n",
            "0     Alabama           864.0\n",
            "1      Alaska           582.0\n",
            "2     Arizona          2606.0\n",
            "3    Arkansas           432.0\n",
            "4  California         20964.0\n",
            "   individuals       state\n",
            "0       2570.0     Alabama\n",
            "1       1434.0      Alaska\n",
            "2       7259.0     Arizona\n",
            "3       2280.0    Arkansas\n",
            "4     109008.0  California\n"
          ]
        }
      ],
      "source": [
        "import pandas as pd\n",
        "homelessness = pd.read_csv('homelessness.csv')\n",
        "\n",
        "# Sort homelessness by individuals\n",
        "homelessness_ind = homelessness.sort_values(['individuals'])\n",
        "\n",
        "# Print the top few rows\n",
        "print(homelessness_ind.head())\n",
        "\n",
        "# Sort homelessness by descending family members\n",
        "homelessness_fam = homelessness.sort_values(['family_members'], ascending = False)\n",
        "\n",
        "# Print the top few rows\n",
        "print(homelessness_fam.head())\n",
        "\n",
        "# Sort homelessness by region, then descending family members\n",
        "homelessness_reg_fam = homelessness.sort_values(['region', 'family_members'], ascending=[True, False])\n",
        "\n",
        "# Print the top few rows\n",
        "print(homelessness_reg_fam.head())\n",
        "\n",
        "# Select the individuals column\n",
        "individuals = homelessness[['individuals']]\n",
        "\n",
        "# Print the head of the result\n",
        "print(individuals.head())\n",
        "\n",
        "# Select the state and family_members columns\n",
        "state_fam = homelessness[['state','family_members']]\n",
        "\n",
        "# Print the head of the result\n",
        "print(state_fam.head())\n",
        "\n",
        "# Select only the individuals and state columns, in that order\n",
        "ind_state = homelessness[['individuals','state']]\n",
        "\n",
        "# Print the head of the result\n",
        "print(ind_state.head())"
      ]
    }
  ]
}