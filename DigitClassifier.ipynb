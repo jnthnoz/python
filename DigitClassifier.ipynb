{
  "nbformat": 4,
  "nbformat_minor": 0,
  "metadata": {
    "colab": {
      "provenance": []
    },
    "kernelspec": {
      "name": "python3",
      "display_name": "Python 3"
    },
    "language_info": {
      "name": "python"
    }
  },
  "cells": [
    {
      "cell_type": "markdown",
      "source": [
        "# Digit classifier with back propagation"
      ],
      "metadata": {
        "id": "ZICG_cL5TOmH"
      }
    },
    {
      "cell_type": "code",
      "execution_count": 8,
      "metadata": {
        "id": "e7JFCEisE4gt"
      },
      "outputs": [],
      "source": [
        "import math\n",
        "\n",
        "def s(x):\n",
        "    return 1 / (1 + math.exp(-x))"
      ]
    },
    {
      "cell_type": "markdown",
      "source": [
        "Define the sigmoid function:\n",
        "$$s(x)= \\frac{1}{1+e^{−x}}$$\n",
        "Using the `math` library.\n",
        "\n",
        "$x \\in [0,∞]$, so $s(x) \\in [1/2,1]$."
      ],
      "metadata": {
        "id": "rU9YgSEaGqtW"
      }
    },
    {
      "cell_type": "code",
      "source": [
        "import numpy as np\n",
        "\n",
        "def Sig(A):\n",
        "    for i in range(len(A)):\n",
        "        for j in range(len(A[i])):\n",
        "            A[i, j] = s(A[i, j])\n",
        "    return A"
      ],
      "metadata": {
        "id": "qgWjYIWMGrG1"
      },
      "execution_count": 9,
      "outputs": []
    },
    {
      "cell_type": "markdown",
      "source": [
        "Function $Sig(A)$ applies the sigmoid function $s(x)$ to each element of the matrix A."
      ],
      "metadata": {
        "id": "zjSJxY8BHN54"
      }
    },
    {
      "cell_type": "code",
      "source": [
        "def C1(w1, b1, x):\n",
        "    # Compute A = w1 * transpose(x) + b1\n",
        "    A = np.dot(w1, np.transpose(x)) + b1\n",
        "    # Apply the sigmoid function to each element of A\n",
        "    A = Sig(A)\n",
        "    # Return the transpose of A\n",
        "    return np.transpose(A)"
      ],
      "metadata": {
        "id": "cGAWjIK_F9uH"
      },
      "execution_count": 10,
      "outputs": []
    },
    {
      "cell_type": "markdown",
      "source": [
        "C1 performs a basic neural network layer computation followed by a sigmoid activation.\n",
        "\n",
        "Inputs are w1 (weights matrix), b1 (bias vector), and x (input vector or matrix)."
      ],
      "metadata": {
        "id": "kT8AASomKRgV"
      }
    },
    {
      "cell_type": "code",
      "source": [
        "def C2(w1, b1, w2, b2, x):\n",
        "    # Apply the first layer computation\n",
        "    A = C1(w1, b1, x)\n",
        "    # Compute the second layer operation: w2 * transpose(A) + b2\n",
        "    A = np.dot(w2, np.transpose(A)) + b2\n",
        "    # Apply the sigmoid function\n",
        "    A = Sig(A)\n",
        "    # Return the transpose of A\n",
        "    return np.transpose(A)"
      ],
      "metadata": {
        "id": "aFQGmnRDKTXt"
      },
      "execution_count": 11,
      "outputs": []
    },
    {
      "cell_type": "code",
      "source": [
        "def C3(w1, b1, w2, b2, w3, b3, x):\n",
        "    # Apply the first two layers using C2 function\n",
        "    A = C2(w1, b1, w2, b2, x)\n",
        "    # Compute the third layer operation: w3 * transpose(A) + b3\n",
        "    A = np.dot(w3, np.transpose(A)) + b3\n",
        "    # Apply the sigmoid function\n",
        "    A = Sig(A)\n",
        "    # Return the transpose of A\n",
        "    return np.transpose(A)"
      ],
      "metadata": {
        "id": "5zjoGmZGOoPl"
      },
      "execution_count": 12,
      "outputs": []
    },
    {
      "cell_type": "markdown",
      "source": [
        "Analogously for the last two layers."
      ],
      "metadata": {
        "id": "dvEjU3SlOoIm"
      }
    }
  ]
}
