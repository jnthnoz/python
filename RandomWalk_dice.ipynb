{
  "nbformat": 4,
  "nbformat_minor": 0,
  "metadata": {
    "colab": {
      "provenance": [],
      "authorship_tag": "ABX9TyMVr/arOk2Lg3Z6iLvPEq19",
      "include_colab_link": true
    },
    "kernelspec": {
      "name": "python3",
      "display_name": "Python 3"
    },
    "language_info": {
      "name": "python"
    }
  },
  "cells": [
    {
      "cell_type": "markdown",
      "metadata": {
        "id": "view-in-github",
        "colab_type": "text"
      },
      "source": [
        "<a href=\"https://colab.research.google.com/github/jnthnoz/python/blob/main/RandomWalk_dice.ipynb\" target=\"_parent\"><img src=\"https://colab.research.google.com/assets/colab-badge.svg\" alt=\"Open In Colab\"/></a>"
      ]
    },
    {
      "cell_type": "code",
      "execution_count": null,
      "metadata": {
        "id": "xp9gaVWdTL-D"
      },
      "outputs": [],
      "source": [
        "import numpy as np\n",
        "np.random.seed(123)\n",
        "# NumPy is imported, seed is set\n",
        "\n",
        "# Initialize random_walk\n",
        "random_walk = [0]\n",
        "\n",
        "# Complete the for loop\n",
        "for x in range(100) :\n",
        "    # Set step: last element in random_walk\n",
        "    step = random_walk[-1]\n",
        "\n",
        "    # Roll the dice\n",
        "    dice = np.random.randint(1,7)\n",
        "\n",
        "    # Determine next step\n",
        "    if dice <= 2:\n",
        "        step = step - 1\n",
        "    elif dice <= 5:\n",
        "        step = step + 1\n",
        "    else:\n",
        "        step = step + np.random.randint(1,7)\n",
        "\n",
        "    # append next_step to random_walk\n",
        "    random_walk.append(step)\n",
        "\n",
        "# Print random_walk\n",
        "print(random_walk)"
      ]
    },
    {
      "cell_type": "markdown",
      "source": [
        "Random walk based on the result of throwing a dice."
      ],
      "metadata": {
        "id": "ImDpLQZ2TOET"
      }
    }
  ]
}