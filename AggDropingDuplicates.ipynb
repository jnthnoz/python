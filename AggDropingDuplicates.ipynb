{
  "nbformat": 4,
  "nbformat_minor": 0,
  "metadata": {
    "colab": {
      "provenance": [],
      "authorship_tag": "ABX9TyO3oWJePGUOTCXlJxs3OEYX",
      "include_colab_link": true
    },
    "kernelspec": {
      "name": "python3",
      "display_name": "Python 3"
    },
    "language_info": {
      "name": "python"
    }
  },
  "cells": [
    {
      "cell_type": "markdown",
      "metadata": {
        "id": "view-in-github",
        "colab_type": "text"
      },
      "source": [
        "<a href=\"https://colab.research.google.com/github/jnthnoz/python/blob/main/AggDropingDuplicates.ipynb\" target=\"_parent\"><img src=\"https://colab.research.google.com/assets/colab-badge.svg\" alt=\"Open In Colab\"/></a>"
      ]
    },
    {
      "cell_type": "code",
      "execution_count": 5,
      "metadata": {
        "id": "APyf5ZNtvZuY"
      },
      "outputs": [],
      "source": [
        "# Import NumPy and create custom IQR function\n",
        "import numpy as np\n",
        "def iqr(column):\n",
        "    return column.quantile(0.75) - column.quantile(0.25)\n",
        "\n",
        "# Update to print IQR and median of temperature_c, fuel_price_usd_per_l, & unemployment\n",
        "print(sales[[\"temperature_c\", \"fuel_price_usd_per_l\", \"unemployment\"]].agg([iqr,np.median]))\n",
        "\n",
        "# Drop duplicate store/type combinations\n",
        "store_types = sales.drop_duplicates(subset = ['store','type'])\n",
        "print(store_types.head())\n",
        "\n",
        "# Drop duplicate store/department combinations\n",
        "store_depts = sales.drop_duplicates(subset = ['store','department'])\n",
        "print(store_depts.head())\n",
        "\n",
        "# Subset the rows where is_holiday is True and drop duplicate dates\n",
        "holiday_dates = sales[sales['is_holiday'] == True].drop_duplicates(subset = ['date'])\n",
        "\n",
        "# Print date col of holiday_dates\n",
        "print(holiday_dates['date'])"
      ]
    }
  ]
}