{
  "nbformat": 4,
  "nbformat_minor": 0,
  "metadata": {
    "colab": {
      "provenance": [],
      "authorship_tag": "ABX9TyPQKLUBL6OqCT3CoeG50EwY",
      "include_colab_link": true
    },
    "kernelspec": {
      "name": "python3",
      "display_name": "Python 3"
    },
    "language_info": {
      "name": "python"
    }
  },
  "cells": [
    {
      "cell_type": "markdown",
      "metadata": {
        "id": "view-in-github",
        "colab_type": "text"
      },
      "source": [
        "<a href=\"https://colab.research.google.com/github/jnthnoz/python/blob/main/InspectingDataframes.ipynb\" target=\"_parent\"><img src=\"https://colab.research.google.com/assets/colab-badge.svg\" alt=\"Open In Colab\"/></a>"
      ]
    },
    {
      "cell_type": "code",
      "execution_count": 6,
      "metadata": {
        "id": "xp9gaVWdTL-D"
      },
      "outputs": [],
      "source": [
        "# Import pandas using the alias pd\n",
        "import pandas as pd\n",
        "\n",
        "# Print the head of the homelessness data\n",
        "print(homelessness.head())\n",
        "\n",
        "# Print information about homelessness\n",
        "print(homelessness.info())\n",
        "\n",
        "# Print the shape of homelessness\n",
        "print(homelessness.shape)\n",
        "\n",
        "# Print a description of homelessness\n",
        "print(homelessness.describe())\n",
        "\n",
        "# Print the values of homelessness\n",
        "print(homelessness.values)\n",
        "\n",
        "# Print the column index of homelessness\n",
        "print(homelessness.columns)\n",
        "\n",
        "# Print the row index of homelessness\n",
        "print(homelessness.index)"
      ]
    }
  ]
}